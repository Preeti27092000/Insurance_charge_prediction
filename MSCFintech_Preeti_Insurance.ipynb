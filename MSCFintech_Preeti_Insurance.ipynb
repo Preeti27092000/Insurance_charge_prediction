{
  "cells": [
    {
      "cell_type": "markdown",
      "metadata": {
        "id": "view-in-github",
        "colab_type": "text"
      },
      "source": [
        "<a href=\"https://colab.research.google.com/github/Preeti27092000/Insurance_charge_prediction/blob/main/MSCFintech_Preeti_Insurance.ipynb\" target=\"_parent\"><img src=\"https://colab.research.google.com/assets/colab-badge.svg\" alt=\"Open In Colab\"/></a>"
      ]
    },
    {
      "cell_type": "markdown",
      "id": "1e74ef95",
      "metadata": {
        "id": "1e74ef95"
      },
      "source": [
        "# import libraries"
      ]
    },
    {
      "cell_type": "code",
      "execution_count": null,
      "id": "b0a5e56e",
      "metadata": {
        "id": "b0a5e56e"
      },
      "outputs": [],
      "source": [
        "import numpy as np\n",
        "import pandas as pd\n",
        "import matplotlib.pyplot as plt\n",
        "import seaborn as sns"
      ]
    },
    {
      "cell_type": "code",
      "source": [
        "from google.colab import drive\n",
        "drive.mount('/content/drive')"
      ],
      "metadata": {
        "colab": {
          "base_uri": "https://localhost:8080/"
        },
        "id": "gaxQf8XofUSH",
        "outputId": "891f132e-59e7-4f3c-a91e-e29fd9ccfb6e"
      },
      "id": "gaxQf8XofUSH",
      "execution_count": null,
      "outputs": [
        {
          "output_type": "stream",
          "name": "stdout",
          "text": [
            "Mounted at /content/drive\n"
          ]
        }
      ]
    },
    {
      "cell_type": "code",
      "source": [
        "filepath = \"/content/drive/MyDrive/ML/insurance.csv\""
      ],
      "metadata": {
        "id": "Kz3t1jttfwiq"
      },
      "id": "Kz3t1jttfwiq",
      "execution_count": null,
      "outputs": []
    },
    {
      "cell_type": "markdown",
      "id": "fb6b4ea4",
      "metadata": {
        "id": "fb6b4ea4"
      },
      "source": [
        "# Data preparation"
      ]
    },
    {
      "cell_type": "code",
      "execution_count": null,
      "id": "8265482c",
      "metadata": {
        "colab": {
          "base_uri": "https://localhost:8080/",
          "height": 206
        },
        "id": "8265482c",
        "outputId": "626baa6b-973b-4864-9e14-25c45272b254"
      },
      "outputs": [
        {
          "output_type": "execute_result",
          "data": {
            "text/plain": [
              "   age     sex     bmi  children smoker     region      charges\n",
              "0   19  female  27.900         0    yes  southwest  16884.92400\n",
              "1   18    male  33.770         1     no  southeast   1725.55230\n",
              "2   28    male  33.000         3     no  southeast   4449.46200\n",
              "3   33    male  22.705         0     no  northwest  21984.47061\n",
              "4   32    male  28.880         0     no  northwest   3866.85520"
            ],
            "text/html": [
              "\n",
              "  <div id=\"df-dd3ad324-6b64-4719-9546-b3711c6bd02e\">\n",
              "    <div class=\"colab-df-container\">\n",
              "      <div>\n",
              "<style scoped>\n",
              "    .dataframe tbody tr th:only-of-type {\n",
              "        vertical-align: middle;\n",
              "    }\n",
              "\n",
              "    .dataframe tbody tr th {\n",
              "        vertical-align: top;\n",
              "    }\n",
              "\n",
              "    .dataframe thead th {\n",
              "        text-align: right;\n",
              "    }\n",
              "</style>\n",
              "<table border=\"1\" class=\"dataframe\">\n",
              "  <thead>\n",
              "    <tr style=\"text-align: right;\">\n",
              "      <th></th>\n",
              "      <th>age</th>\n",
              "      <th>sex</th>\n",
              "      <th>bmi</th>\n",
              "      <th>children</th>\n",
              "      <th>smoker</th>\n",
              "      <th>region</th>\n",
              "      <th>charges</th>\n",
              "    </tr>\n",
              "  </thead>\n",
              "  <tbody>\n",
              "    <tr>\n",
              "      <th>0</th>\n",
              "      <td>19</td>\n",
              "      <td>female</td>\n",
              "      <td>27.900</td>\n",
              "      <td>0</td>\n",
              "      <td>yes</td>\n",
              "      <td>southwest</td>\n",
              "      <td>16884.92400</td>\n",
              "    </tr>\n",
              "    <tr>\n",
              "      <th>1</th>\n",
              "      <td>18</td>\n",
              "      <td>male</td>\n",
              "      <td>33.770</td>\n",
              "      <td>1</td>\n",
              "      <td>no</td>\n",
              "      <td>southeast</td>\n",
              "      <td>1725.55230</td>\n",
              "    </tr>\n",
              "    <tr>\n",
              "      <th>2</th>\n",
              "      <td>28</td>\n",
              "      <td>male</td>\n",
              "      <td>33.000</td>\n",
              "      <td>3</td>\n",
              "      <td>no</td>\n",
              "      <td>southeast</td>\n",
              "      <td>4449.46200</td>\n",
              "    </tr>\n",
              "    <tr>\n",
              "      <th>3</th>\n",
              "      <td>33</td>\n",
              "      <td>male</td>\n",
              "      <td>22.705</td>\n",
              "      <td>0</td>\n",
              "      <td>no</td>\n",
              "      <td>northwest</td>\n",
              "      <td>21984.47061</td>\n",
              "    </tr>\n",
              "    <tr>\n",
              "      <th>4</th>\n",
              "      <td>32</td>\n",
              "      <td>male</td>\n",
              "      <td>28.880</td>\n",
              "      <td>0</td>\n",
              "      <td>no</td>\n",
              "      <td>northwest</td>\n",
              "      <td>3866.85520</td>\n",
              "    </tr>\n",
              "  </tbody>\n",
              "</table>\n",
              "</div>\n",
              "      <button class=\"colab-df-convert\" onclick=\"convertToInteractive('df-dd3ad324-6b64-4719-9546-b3711c6bd02e')\"\n",
              "              title=\"Convert this dataframe to an interactive table.\"\n",
              "              style=\"display:none;\">\n",
              "        \n",
              "  <svg xmlns=\"http://www.w3.org/2000/svg\" height=\"24px\"viewBox=\"0 0 24 24\"\n",
              "       width=\"24px\">\n",
              "    <path d=\"M0 0h24v24H0V0z\" fill=\"none\"/>\n",
              "    <path d=\"M18.56 5.44l.94 2.06.94-2.06 2.06-.94-2.06-.94-.94-2.06-.94 2.06-2.06.94zm-11 1L8.5 8.5l.94-2.06 2.06-.94-2.06-.94L8.5 2.5l-.94 2.06-2.06.94zm10 10l.94 2.06.94-2.06 2.06-.94-2.06-.94-.94-2.06-.94 2.06-2.06.94z\"/><path d=\"M17.41 7.96l-1.37-1.37c-.4-.4-.92-.59-1.43-.59-.52 0-1.04.2-1.43.59L10.3 9.45l-7.72 7.72c-.78.78-.78 2.05 0 2.83L4 21.41c.39.39.9.59 1.41.59.51 0 1.02-.2 1.41-.59l7.78-7.78 2.81-2.81c.8-.78.8-2.07 0-2.86zM5.41 20L4 18.59l7.72-7.72 1.47 1.35L5.41 20z\"/>\n",
              "  </svg>\n",
              "      </button>\n",
              "      \n",
              "  <style>\n",
              "    .colab-df-container {\n",
              "      display:flex;\n",
              "      flex-wrap:wrap;\n",
              "      gap: 12px;\n",
              "    }\n",
              "\n",
              "    .colab-df-convert {\n",
              "      background-color: #E8F0FE;\n",
              "      border: none;\n",
              "      border-radius: 50%;\n",
              "      cursor: pointer;\n",
              "      display: none;\n",
              "      fill: #1967D2;\n",
              "      height: 32px;\n",
              "      padding: 0 0 0 0;\n",
              "      width: 32px;\n",
              "    }\n",
              "\n",
              "    .colab-df-convert:hover {\n",
              "      background-color: #E2EBFA;\n",
              "      box-shadow: 0px 1px 2px rgba(60, 64, 67, 0.3), 0px 1px 3px 1px rgba(60, 64, 67, 0.15);\n",
              "      fill: #174EA6;\n",
              "    }\n",
              "\n",
              "    [theme=dark] .colab-df-convert {\n",
              "      background-color: #3B4455;\n",
              "      fill: #D2E3FC;\n",
              "    }\n",
              "\n",
              "    [theme=dark] .colab-df-convert:hover {\n",
              "      background-color: #434B5C;\n",
              "      box-shadow: 0px 1px 3px 1px rgba(0, 0, 0, 0.15);\n",
              "      filter: drop-shadow(0px 1px 2px rgba(0, 0, 0, 0.3));\n",
              "      fill: #FFFFFF;\n",
              "    }\n",
              "  </style>\n",
              "\n",
              "      <script>\n",
              "        const buttonEl =\n",
              "          document.querySelector('#df-dd3ad324-6b64-4719-9546-b3711c6bd02e button.colab-df-convert');\n",
              "        buttonEl.style.display =\n",
              "          google.colab.kernel.accessAllowed ? 'block' : 'none';\n",
              "\n",
              "        async function convertToInteractive(key) {\n",
              "          const element = document.querySelector('#df-dd3ad324-6b64-4719-9546-b3711c6bd02e');\n",
              "          const dataTable =\n",
              "            await google.colab.kernel.invokeFunction('convertToInteractive',\n",
              "                                                     [key], {});\n",
              "          if (!dataTable) return;\n",
              "\n",
              "          const docLinkHtml = 'Like what you see? Visit the ' +\n",
              "            '<a target=\"_blank\" href=https://colab.research.google.com/notebooks/data_table.ipynb>data table notebook</a>'\n",
              "            + ' to learn more about interactive tables.';\n",
              "          element.innerHTML = '';\n",
              "          dataTable['output_type'] = 'display_data';\n",
              "          await google.colab.output.renderOutput(dataTable, element);\n",
              "          const docLink = document.createElement('div');\n",
              "          docLink.innerHTML = docLinkHtml;\n",
              "          element.appendChild(docLink);\n",
              "        }\n",
              "      </script>\n",
              "    </div>\n",
              "  </div>\n",
              "  "
            ]
          },
          "metadata": {},
          "execution_count": 10
        }
      ],
      "source": [
        "# load the csv data and store it in df_insurance\n",
        "# get first 5 rows of data\n",
        "df_insurance = pd.read_csv(filepath) \n",
        "df_insurance.head()"
      ]
    },
    {
      "cell_type": "code",
      "execution_count": null,
      "id": "77dad38e",
      "metadata": {
        "id": "77dad38e"
      },
      "outputs": [],
      "source": [
        "# making one copy of main dataframe\n",
        "df_insurance2 = df_insurance.copy()"
      ]
    },
    {
      "cell_type": "markdown",
      "id": "e21a438c",
      "metadata": {
        "id": "e21a438c"
      },
      "source": [
        "## information about data"
      ]
    },
    {
      "cell_type": "code",
      "execution_count": null,
      "id": "22dcfc8c",
      "metadata": {
        "colab": {
          "base_uri": "https://localhost:8080/"
        },
        "id": "22dcfc8c",
        "outputId": "2336e6d8-bf05-45e1-acca-a4681d27064c"
      },
      "outputs": [
        {
          "output_type": "execute_result",
          "data": {
            "text/plain": [
              "(1338, 7)"
            ]
          },
          "metadata": {},
          "execution_count": 14
        }
      ],
      "source": [
        "df_insurance.shape"
      ]
    },
    {
      "cell_type": "code",
      "source": [
        "# There are 1338 rows and 7 columns"
      ],
      "metadata": {
        "id": "dUkfxlUugLDi"
      },
      "id": "dUkfxlUugLDi",
      "execution_count": null,
      "outputs": []
    },
    {
      "cell_type": "code",
      "execution_count": null,
      "id": "b6370268",
      "metadata": {
        "colab": {
          "base_uri": "https://localhost:8080/"
        },
        "id": "b6370268",
        "outputId": "19eab860-f5c9-4498-e1ef-88a028906dbc"
      },
      "outputs": [
        {
          "output_type": "stream",
          "name": "stdout",
          "text": [
            "<class 'pandas.core.frame.DataFrame'>\n",
            "RangeIndex: 1338 entries, 0 to 1337\n",
            "Data columns (total 7 columns):\n",
            " #   Column    Non-Null Count  Dtype  \n",
            "---  ------    --------------  -----  \n",
            " 0   age       1338 non-null   int64  \n",
            " 1   sex       1338 non-null   object \n",
            " 2   bmi       1338 non-null   float64\n",
            " 3   children  1338 non-null   int64  \n",
            " 4   smoker    1338 non-null   object \n",
            " 5   region    1338 non-null   object \n",
            " 6   charges   1338 non-null   float64\n",
            "dtypes: float64(2), int64(2), object(3)\n",
            "memory usage: 73.3+ KB\n"
          ]
        }
      ],
      "source": [
        "df_insurance.info()\n",
        "# .info() method gives us data type of column,number of non-null cells as well column name and memory usages"
      ]
    },
    {
      "cell_type": "code",
      "execution_count": null,
      "id": "60a40e2c",
      "metadata": {
        "colab": {
          "base_uri": "https://localhost:8080/",
          "height": 300
        },
        "id": "60a40e2c",
        "outputId": "11c4ef1a-eff3-44e1-b4f4-946e0e76d943"
      },
      "outputs": [
        {
          "output_type": "execute_result",
          "data": {
            "text/plain": [
              "               age          bmi     children       charges\n",
              "count  1338.000000  1338.000000  1338.000000   1338.000000\n",
              "mean     39.207025    30.663397     1.094918  13270.422265\n",
              "std      14.049960     6.098187     1.205493  12110.011237\n",
              "min      18.000000    15.960000     0.000000   1121.873900\n",
              "25%      27.000000    26.296250     0.000000   4740.287150\n",
              "50%      39.000000    30.400000     1.000000   9382.033000\n",
              "75%      51.000000    34.693750     2.000000  16639.912515\n",
              "max      64.000000    53.130000     5.000000  63770.428010"
            ],
            "text/html": [
              "\n",
              "  <div id=\"df-a864ac76-9ebb-4b7d-b0ee-ee43b0fa8428\">\n",
              "    <div class=\"colab-df-container\">\n",
              "      <div>\n",
              "<style scoped>\n",
              "    .dataframe tbody tr th:only-of-type {\n",
              "        vertical-align: middle;\n",
              "    }\n",
              "\n",
              "    .dataframe tbody tr th {\n",
              "        vertical-align: top;\n",
              "    }\n",
              "\n",
              "    .dataframe thead th {\n",
              "        text-align: right;\n",
              "    }\n",
              "</style>\n",
              "<table border=\"1\" class=\"dataframe\">\n",
              "  <thead>\n",
              "    <tr style=\"text-align: right;\">\n",
              "      <th></th>\n",
              "      <th>age</th>\n",
              "      <th>bmi</th>\n",
              "      <th>children</th>\n",
              "      <th>charges</th>\n",
              "    </tr>\n",
              "  </thead>\n",
              "  <tbody>\n",
              "    <tr>\n",
              "      <th>count</th>\n",
              "      <td>1338.000000</td>\n",
              "      <td>1338.000000</td>\n",
              "      <td>1338.000000</td>\n",
              "      <td>1338.000000</td>\n",
              "    </tr>\n",
              "    <tr>\n",
              "      <th>mean</th>\n",
              "      <td>39.207025</td>\n",
              "      <td>30.663397</td>\n",
              "      <td>1.094918</td>\n",
              "      <td>13270.422265</td>\n",
              "    </tr>\n",
              "    <tr>\n",
              "      <th>std</th>\n",
              "      <td>14.049960</td>\n",
              "      <td>6.098187</td>\n",
              "      <td>1.205493</td>\n",
              "      <td>12110.011237</td>\n",
              "    </tr>\n",
              "    <tr>\n",
              "      <th>min</th>\n",
              "      <td>18.000000</td>\n",
              "      <td>15.960000</td>\n",
              "      <td>0.000000</td>\n",
              "      <td>1121.873900</td>\n",
              "    </tr>\n",
              "    <tr>\n",
              "      <th>25%</th>\n",
              "      <td>27.000000</td>\n",
              "      <td>26.296250</td>\n",
              "      <td>0.000000</td>\n",
              "      <td>4740.287150</td>\n",
              "    </tr>\n",
              "    <tr>\n",
              "      <th>50%</th>\n",
              "      <td>39.000000</td>\n",
              "      <td>30.400000</td>\n",
              "      <td>1.000000</td>\n",
              "      <td>9382.033000</td>\n",
              "    </tr>\n",
              "    <tr>\n",
              "      <th>75%</th>\n",
              "      <td>51.000000</td>\n",
              "      <td>34.693750</td>\n",
              "      <td>2.000000</td>\n",
              "      <td>16639.912515</td>\n",
              "    </tr>\n",
              "    <tr>\n",
              "      <th>max</th>\n",
              "      <td>64.000000</td>\n",
              "      <td>53.130000</td>\n",
              "      <td>5.000000</td>\n",
              "      <td>63770.428010</td>\n",
              "    </tr>\n",
              "  </tbody>\n",
              "</table>\n",
              "</div>\n",
              "      <button class=\"colab-df-convert\" onclick=\"convertToInteractive('df-a864ac76-9ebb-4b7d-b0ee-ee43b0fa8428')\"\n",
              "              title=\"Convert this dataframe to an interactive table.\"\n",
              "              style=\"display:none;\">\n",
              "        \n",
              "  <svg xmlns=\"http://www.w3.org/2000/svg\" height=\"24px\"viewBox=\"0 0 24 24\"\n",
              "       width=\"24px\">\n",
              "    <path d=\"M0 0h24v24H0V0z\" fill=\"none\"/>\n",
              "    <path d=\"M18.56 5.44l.94 2.06.94-2.06 2.06-.94-2.06-.94-.94-2.06-.94 2.06-2.06.94zm-11 1L8.5 8.5l.94-2.06 2.06-.94-2.06-.94L8.5 2.5l-.94 2.06-2.06.94zm10 10l.94 2.06.94-2.06 2.06-.94-2.06-.94-.94-2.06-.94 2.06-2.06.94z\"/><path d=\"M17.41 7.96l-1.37-1.37c-.4-.4-.92-.59-1.43-.59-.52 0-1.04.2-1.43.59L10.3 9.45l-7.72 7.72c-.78.78-.78 2.05 0 2.83L4 21.41c.39.39.9.59 1.41.59.51 0 1.02-.2 1.41-.59l7.78-7.78 2.81-2.81c.8-.78.8-2.07 0-2.86zM5.41 20L4 18.59l7.72-7.72 1.47 1.35L5.41 20z\"/>\n",
              "  </svg>\n",
              "      </button>\n",
              "      \n",
              "  <style>\n",
              "    .colab-df-container {\n",
              "      display:flex;\n",
              "      flex-wrap:wrap;\n",
              "      gap: 12px;\n",
              "    }\n",
              "\n",
              "    .colab-df-convert {\n",
              "      background-color: #E8F0FE;\n",
              "      border: none;\n",
              "      border-radius: 50%;\n",
              "      cursor: pointer;\n",
              "      display: none;\n",
              "      fill: #1967D2;\n",
              "      height: 32px;\n",
              "      padding: 0 0 0 0;\n",
              "      width: 32px;\n",
              "    }\n",
              "\n",
              "    .colab-df-convert:hover {\n",
              "      background-color: #E2EBFA;\n",
              "      box-shadow: 0px 1px 2px rgba(60, 64, 67, 0.3), 0px 1px 3px 1px rgba(60, 64, 67, 0.15);\n",
              "      fill: #174EA6;\n",
              "    }\n",
              "\n",
              "    [theme=dark] .colab-df-convert {\n",
              "      background-color: #3B4455;\n",
              "      fill: #D2E3FC;\n",
              "    }\n",
              "\n",
              "    [theme=dark] .colab-df-convert:hover {\n",
              "      background-color: #434B5C;\n",
              "      box-shadow: 0px 1px 3px 1px rgba(0, 0, 0, 0.15);\n",
              "      filter: drop-shadow(0px 1px 2px rgba(0, 0, 0, 0.3));\n",
              "      fill: #FFFFFF;\n",
              "    }\n",
              "  </style>\n",
              "\n",
              "      <script>\n",
              "        const buttonEl =\n",
              "          document.querySelector('#df-a864ac76-9ebb-4b7d-b0ee-ee43b0fa8428 button.colab-df-convert');\n",
              "        buttonEl.style.display =\n",
              "          google.colab.kernel.accessAllowed ? 'block' : 'none';\n",
              "\n",
              "        async function convertToInteractive(key) {\n",
              "          const element = document.querySelector('#df-a864ac76-9ebb-4b7d-b0ee-ee43b0fa8428');\n",
              "          const dataTable =\n",
              "            await google.colab.kernel.invokeFunction('convertToInteractive',\n",
              "                                                     [key], {});\n",
              "          if (!dataTable) return;\n",
              "\n",
              "          const docLinkHtml = 'Like what you see? Visit the ' +\n",
              "            '<a target=\"_blank\" href=https://colab.research.google.com/notebooks/data_table.ipynb>data table notebook</a>'\n",
              "            + ' to learn more about interactive tables.';\n",
              "          element.innerHTML = '';\n",
              "          dataTable['output_type'] = 'display_data';\n",
              "          await google.colab.output.renderOutput(dataTable, element);\n",
              "          const docLink = document.createElement('div');\n",
              "          docLink.innerHTML = docLinkHtml;\n",
              "          element.appendChild(docLink);\n",
              "        }\n",
              "      </script>\n",
              "    </div>\n",
              "  </div>\n",
              "  "
            ]
          },
          "metadata": {},
          "execution_count": 18
        }
      ],
      "source": [
        "df_insurance.describe()\n",
        "'''.describe() method gives us statistical insight about data where we can find all these information for each column \n",
        "count = count of rows\n",
        "mean = average \n",
        "median = 50% of data is below the median value\n",
        "standard seviation = data values are spread from mean by + or - SD\n",
        "25% = 1st quartile which means 25% of our data is below Q1 value\n",
        "75% = 3rd quartile which means 75% of data is below Q3 value\n",
        " '''"
      ]
    },
    {
      "cell_type": "code",
      "execution_count": null,
      "id": "ec558889",
      "metadata": {
        "colab": {
          "base_uri": "https://localhost:8080/"
        },
        "id": "ec558889",
        "outputId": "66324ad7-5eee-4b8d-c591-79d8c528c5da"
      },
      "outputs": [
        {
          "output_type": "execute_result",
          "data": {
            "text/plain": [
              "Index(['age', 'sex', 'bmi', 'children', 'smoker', 'region', 'charges'], dtype='object')"
            ]
          },
          "metadata": {},
          "execution_count": 24
        }
      ],
      "source": [
        "df_insurance.columns\n",
        "# .columns attribute gives us names of column"
      ]
    },
    {
      "cell_type": "code",
      "execution_count": null,
      "id": "1f0359b8",
      "metadata": {
        "colab": {
          "base_uri": "https://localhost:8080/"
        },
        "id": "1f0359b8",
        "outputId": "05f625c8-7cbc-4718-ad94-7713a70b6f61"
      },
      "outputs": [
        {
          "output_type": "execute_result",
          "data": {
            "text/plain": [
              "age         0\n",
              "sex         0\n",
              "bmi         0\n",
              "children    0\n",
              "smoker      0\n",
              "region      0\n",
              "charges     0\n",
              "dtype: int64"
            ]
          },
          "metadata": {},
          "execution_count": 35
        }
      ],
      "source": [
        "df_insurance.isnull().sum()\n",
        "# by default in sum method axis = 0 which means rows, to check each column of row use axis = 1"
      ]
    },
    {
      "cell_type": "code",
      "source": [
        "# Interpretation : There are no null values"
      ],
      "metadata": {
        "cellView": "code",
        "id": "1A6e-ZF_jqCo"
      },
      "id": "1A6e-ZF_jqCo",
      "execution_count": null,
      "outputs": []
    },
    {
      "cell_type": "markdown",
      "id": "6d33c209",
      "metadata": {
        "id": "6d33c209"
      },
      "source": [
        "## Value counts of categorical data\n"
      ]
    },
    {
      "cell_type": "code",
      "execution_count": null,
      "id": "641d4d8c",
      "metadata": {
        "colab": {
          "base_uri": "https://localhost:8080/"
        },
        "id": "641d4d8c",
        "outputId": "0cbb8646-d6ea-4cb4-c363-26c743be04fc"
      },
      "outputs": [
        {
          "output_type": "execute_result",
          "data": {
            "text/plain": [
              "male      50.523169\n",
              "female    49.476831\n",
              "Name: sex, dtype: float64"
            ]
          },
          "metadata": {},
          "execution_count": 40
        }
      ],
      "source": [
        "df_insurance['sex'].value_counts()*100/len(df_insurance)\n",
        "# .value_counts() gives us count of each value about how many times it occurs in dataframe\n",
        "# it is mainly used to check the frequency of categorical variable\n",
        "# evenly distributed"
      ]
    },
    {
      "cell_type": "code",
      "execution_count": null,
      "id": "2f537e8d",
      "metadata": {
        "colab": {
          "base_uri": "https://localhost:8080/"
        },
        "id": "2f537e8d",
        "outputId": "520cb242-81b7-4add-feea-0cb30a8ac8c1"
      },
      "outputs": [
        {
          "output_type": "execute_result",
          "data": {
            "text/plain": [
              "no     79.521674\n",
              "yes    20.478326\n",
              "Name: smoker, dtype: float64"
            ]
          },
          "metadata": {},
          "execution_count": 36
        }
      ],
      "source": [
        "df_insurance['smoker'].value_counts()*100/len(df_insurance)\n",
        "# not evenly distributed but there cannot be under or over sampling"
      ]
    },
    {
      "cell_type": "code",
      "execution_count": null,
      "id": "5be9e87a",
      "metadata": {
        "colab": {
          "base_uri": "https://localhost:8080/"
        },
        "id": "5be9e87a",
        "outputId": "5ad46e20-aab4-41c6-f843-543623f390dd"
      },
      "outputs": [
        {
          "output_type": "execute_result",
          "data": {
            "text/plain": [
              "southeast    27.204783\n",
              "southwest    24.289985\n",
              "northwest    24.289985\n",
              "northeast    24.215247\n",
              "Name: region, dtype: float64"
            ]
          },
          "metadata": {},
          "execution_count": 37
        }
      ],
      "source": [
        "df_insurance['region'].value_counts()*100/len(df_insurance)\n",
        "# evenly distributed"
      ]
    },
    {
      "cell_type": "code",
      "execution_count": null,
      "id": "37a0f58f",
      "metadata": {
        "colab": {
          "base_uri": "https://localhost:8080/"
        },
        "id": "37a0f58f",
        "outputId": "ea175d90-9b02-4d07-cac9-ef2579a03518"
      },
      "outputs": [
        {
          "output_type": "execute_result",
          "data": {
            "text/plain": [
              "0    42.899851\n",
              "1    24.215247\n",
              "2    17.937220\n",
              "3    11.733931\n",
              "4     1.868460\n",
              "5     1.345291\n",
              "Name: children, dtype: float64"
            ]
          },
          "metadata": {},
          "execution_count": 38
        }
      ],
      "source": [
        "df_insurance['children'].value_counts()*100/(len(df_insurance))\n",
        "# not evenly distributed but can not say over or under sampling"
      ]
    },
    {
      "cell_type": "markdown",
      "id": "e89b7d6a",
      "metadata": {
        "id": "e89b7d6a"
      },
      "source": [
        "**Interpretation : We can seen that each category has equal proportion in above particular column hence no need to drop any column but 'children' column has\n",
        "98% of data within a range of '0 to 3 children'**"
      ]
    },
    {
      "cell_type": "markdown",
      "id": "43f9c1f8",
      "metadata": {
        "id": "43f9c1f8"
      },
      "source": [
        "# Check distribution of data"
      ]
    },
    {
      "cell_type": "code",
      "execution_count": null,
      "id": "a46b934e",
      "metadata": {
        "colab": {
          "base_uri": "https://localhost:8080/",
          "height": 517
        },
        "id": "a46b934e",
        "outputId": "08f1dc2d-384a-490e-ed06-0a1a8e224faa"
      },
      "outputs": [
        {
          "output_type": "execute_result",
          "data": {
            "text/plain": [
              "Text(0.5, 1.0, 'Distribution of all numerical columns')"
            ]
          },
          "metadata": {},
          "execution_count": 49
        },
        {
          "output_type": "display_data",
          "data": {
            "text/plain": [
              "<Figure size 720x576 with 4 Axes>"
            ],
            "image/png": "[encoded data removed]"
          },
          "metadata": {
            "needs_background": "light"
          }
        }
      ],
      "source": [
        "plt.rcParams['figure.figsize'] = [10,8]\n",
        "df_insurance.hist(color = 'black')\n",
        "plt.title(\"Distribution of all numerical columns\")\n",
        "# matplotlib has method called rcParams in which 'figure.figsize' helps us to decide the length and breadth of figure which lies in white plane\n",
        "# In next line, we are using 'hist' to make histogram of numerical columns only which is used to visualise skewnwss of each column and its normal distribution\n",
        "# If column has number but it is actually a column of classification then histogram of such column will not be continuous as we can see this in 'children' column"
      ]
    },
    {
      "cell_type": "markdown",
      "id": "349a0d36",
      "metadata": {
        "id": "349a0d36"
      },
      "source": [
        "**Here we can see that 'bmi' is normally distributed histogram while 'children' column is seems to be rightly skewed. While\n",
        "'age' column shows that we have customer of around 20 age.\n",
        "As well we can see that our target variable is also skewd on right side**"
      ]
    },
    {
      "cell_type": "code",
      "execution_count": null,
      "id": "b416377e",
      "metadata": {
        "colab": {
          "base_uri": "https://localhost:8080/"
        },
        "id": "b416377e",
        "outputId": "9f40b240-cc3a-4e12-cc05-23138d758d9e"
      },
      "outputs": [
        {
          "output_type": "execute_result",
          "data": {
            "text/plain": [
              "(1338,)"
            ]
          },
          "metadata": {},
          "execution_count": 46
        }
      ],
      "source": [
        "df_target = df_insurance2['charges']\n",
        "df_target.shape\n",
        "# making different dataframe for dependent variable (target variable) 'charges' and checking its shape"
      ]
    },
    {
      "cell_type": "markdown",
      "id": "9c883ecc",
      "metadata": {
        "id": "9c883ecc"
      },
      "source": [
        "# OUTLIERS\n",
        " Outliers are such extremely low or high value as compared to normal data values. We need to give specific treatment to it or else it will affect so many things such as central tendency and many more."
      ]
    },
    {
      "cell_type": "markdown",
      "id": "ca53c1d4",
      "metadata": {
        "id": "ca53c1d4"
      },
      "source": [
        "**Check outliers**"
      ]
    },
    {
      "cell_type": "code",
      "execution_count": null,
      "id": "127ae56b",
      "metadata": {
        "colab": {
          "base_uri": "https://localhost:8080/",
          "height": 443
        },
        "id": "127ae56b",
        "outputId": "19a25a75-26b1-474c-dbd8-dde820f7fc5a"
      },
      "outputs": [
        {
          "output_type": "display_data",
          "data": {
            "text/plain": [
              "<Figure size 864x432 with 1 Axes>"
            ],
            "image/png": "[encoded data removed]"
          },
          "metadata": {
            "needs_background": "light"
          }
        }
      ],
      "source": [
        "# pass the wisth and height (by default in inches) inside tuple\n",
        "# this woeks as same as rcParams\n",
        "plt.figure(figsize = (12,6))\n",
        "\n",
        "# find outliers by plotting boxplot\n",
        "df_insurance.boxplot()\n",
        "\n",
        "# set plot label and textsize using fontsize\n",
        "plt.title(\"Spreadness of each column in data \",fontsize = 15)\n",
        "\n",
        "# xticks = label on xaxis,rotation = 'vertical' will rotate x text vertically (can also pass degree to rotate x ticks)\n",
        "plt.xticks(rotation = 'vertical',fontsize = 15)\n",
        "plt.show()\n",
        "\n"
      ]
    },
    {
      "cell_type": "code",
      "execution_count": null,
      "id": "a03819ea",
      "metadata": {
        "id": "a03819ea"
      },
      "outputs": [],
      "source": [
        "# here we can see that range of 'charges' column is too large and hence we are not able to see outliers in other independentvariables so lets make one more boxplot excluding 'charges' column"
      ]
    },
    {
      "cell_type": "code",
      "execution_count": null,
      "id": "932bae52",
      "metadata": {
        "colab": {
          "base_uri": "https://localhost:8080/",
          "height": 531
        },
        "id": "932bae52",
        "outputId": "f061dcb9-dace-45d7-8dd0-8dc438f16649"
      },
      "outputs": [
        {
          "output_type": "execute_result",
          "data": {
            "text/plain": [
              "Text(0.5, 0, 'Independent numeric columns')"
            ]
          },
          "metadata": {},
          "execution_count": 52
        },
        {
          "output_type": "display_data",
          "data": {
            "text/plain": [
              "<Figure size 720x576 with 1 Axes>"
            ],
            "image/png": "[encoded data removed]"
          },
          "metadata": {
            "needs_background": "light"
          }
        }
      ],
      "source": [
        "df_insurance[['bmi','children','age']].boxplot()\n",
        "# df_insurance.loc[:,['bmi','children','age']].boxplot()\n",
        "# use .loc to select the variables\n",
        "# loc gives rows or coluns by its name or labels while, iloc returns by indexing position\n",
        "plt.title(\"Distribution of independent variables\")\n",
        "plt.xlabel(\"Independent numeric columns\")\n"
      ]
    },
    {
      "cell_type": "markdown",
      "id": "19dbe272",
      "metadata": {
        "id": "19dbe272"
      },
      "source": [
        "**Treatment to outliers**"
      ]
    },
    {
      "cell_type": "code",
      "execution_count": null,
      "id": "e4c4bd66",
      "metadata": {
        "id": "e4c4bd66",
        "colab": {
          "base_uri": "https://localhost:8080/"
        },
        "outputId": "23136acf-ba1a-4857-b3e9-8dd177f42111"
      },
      "outputs": [
        {
          "output_type": "stream",
          "name": "stdout",
          "text": [
            "1st quartile :\n",
            " age           27.00000\n",
            "bmi           26.29625\n",
            "children       0.00000\n",
            "charges     4740.28715\n",
            "Name: 0.25, dtype: float64\n",
            "*******************************************\n",
            "3rd quartile :\n",
            " age            51.000000\n",
            "bmi            34.693750\n",
            "children        2.000000\n",
            "charges     16639.912515\n",
            "Name: 0.75, dtype: float64\n"
          ]
        },
        {
          "output_type": "stream",
          "name": "stderr",
          "text": [
            "/usr/local/lib/python3.7/dist-packages/ipykernel_launcher.py:7: FutureWarning: Automatic reindexing on DataFrame vs Series comparisons is deprecated and will raise ValueError in a future version.  Do `left, right = left.align(right, axis=1, copy=False)` before e.g. `left == right`\n",
            "  import sys\n"
          ]
        }
      ],
      "source": [
        "q1 = df_insurance.quantile(0.25) # first quartile\n",
        "print(\"1st quartile :\\n\",q1)\n",
        "print(\"*******************************************\")\n",
        "q3 = df_insurance.quantile(0.75) # third quartile\n",
        "print(\"3rd quartile :\\n\",q3)\n",
        "iqr = q3 - q1 # inter quartile range\n",
        "df_insurance = df_insurance[~((df_insurance < (q1 - 1.5 * iqr)) | (df_insurance > (q3 + 1.5 * iqr))).any(axis=1)]"
      ]
    },
    {
      "cell_type": "code",
      "execution_count": null,
      "id": "3fb8cde9",
      "metadata": {
        "id": "3fb8cde9",
        "colab": {
          "base_uri": "https://localhost:8080/"
        },
        "outputId": "8f187873-37ec-497c-ac7e-106a6fc84386"
      },
      "outputs": [
        {
          "output_type": "execute_result",
          "data": {
            "text/plain": [
              "age         0\n",
              "sex         0\n",
              "bmi         0\n",
              "children    0\n",
              "smoker      0\n",
              "region      0\n",
              "charges     0\n",
              "dtype: int64"
            ]
          },
          "metadata": {},
          "execution_count": 54
        }
      ],
      "source": [
        "df_insurance.isnull().sum()"
      ]
    },
    {
      "cell_type": "code",
      "execution_count": null,
      "id": "572e2b6e",
      "metadata": {
        "id": "572e2b6e"
      },
      "outputs": [],
      "source": [
        "df_insurance_num = df_insurance.select_dtypes(include = 'number')"
      ]
    },
    {
      "cell_type": "code",
      "execution_count": null,
      "id": "0ebced6a",
      "metadata": {
        "id": "0ebced6a"
      },
      "outputs": [],
      "source": [
        "df_insurance_cat = df_insurance.select_dtypes(include='object')"
      ]
    },
    {
      "cell_type": "code",
      "execution_count": null,
      "id": "5099627d",
      "metadata": {
        "id": "5099627d",
        "colab": {
          "base_uri": "https://localhost:8080/"
        },
        "outputId": "dba08cf7-c1f6-47c4-b73f-c41f1da236f5"
      },
      "outputs": [
        {
          "output_type": "execute_result",
          "data": {
            "text/plain": [
              "Index(['age', 'bmi', 'children', 'charges'], dtype='object')"
            ]
          },
          "metadata": {},
          "execution_count": 57
        }
      ],
      "source": [
        "df_insurance_num.columns"
      ]
    },
    {
      "cell_type": "code",
      "execution_count": null,
      "id": "565fbcc0",
      "metadata": {
        "id": "565fbcc0",
        "colab": {
          "base_uri": "https://localhost:8080/",
          "height": 206
        },
        "outputId": "e314a5a3-95c0-4f17-df59-30083041f8d4"
      },
      "outputs": [
        {
          "output_type": "execute_result",
          "data": {
            "text/plain": [
              "        age       bmi  children   charges\n",
              "0 -1.420812 -0.357691 -0.892497  0.957432\n",
              "1 -1.491918  0.642842 -0.070297 -1.133133\n",
              "2 -0.780856  0.511596  1.574103 -0.757490\n",
              "3 -0.425326 -1.243171 -0.892497  1.660689\n",
              "4 -0.496432 -0.190652 -0.892497 -0.837835"
            ],
            "text/html": [
              "\n",
              "  <div id=\"df-6d62f5c3-24c9-44d3-bc67-0aeb9cb99d27\">\n",
              "    <div class=\"colab-df-container\">\n",
              "      <div>\n",
              "<style scoped>\n",
              "    .dataframe tbody tr th:only-of-type {\n",
              "        vertical-align: middle;\n",
              "    }\n",
              "\n",
              "    .dataframe tbody tr th {\n",
              "        vertical-align: top;\n",
              "    }\n",
              "\n",
              "    .dataframe thead th {\n",
              "        text-align: right;\n",
              "    }\n",
              "</style>\n",
              "<table border=\"1\" class=\"dataframe\">\n",
              "  <thead>\n",
              "    <tr style=\"text-align: right;\">\n",
              "      <th></th>\n",
              "      <th>age</th>\n",
              "      <th>bmi</th>\n",
              "      <th>children</th>\n",
              "      <th>charges</th>\n",
              "    </tr>\n",
              "  </thead>\n",
              "  <tbody>\n",
              "    <tr>\n",
              "      <th>0</th>\n",
              "      <td>-1.420812</td>\n",
              "      <td>-0.357691</td>\n",
              "      <td>-0.892497</td>\n",
              "      <td>0.957432</td>\n",
              "    </tr>\n",
              "    <tr>\n",
              "      <th>1</th>\n",
              "      <td>-1.491918</td>\n",
              "      <td>0.642842</td>\n",
              "      <td>-0.070297</td>\n",
              "      <td>-1.133133</td>\n",
              "    </tr>\n",
              "    <tr>\n",
              "      <th>2</th>\n",
              "      <td>-0.780856</td>\n",
              "      <td>0.511596</td>\n",
              "      <td>1.574103</td>\n",
              "      <td>-0.757490</td>\n",
              "    </tr>\n",
              "    <tr>\n",
              "      <th>3</th>\n",
              "      <td>-0.425326</td>\n",
              "      <td>-1.243171</td>\n",
              "      <td>-0.892497</td>\n",
              "      <td>1.660689</td>\n",
              "    </tr>\n",
              "    <tr>\n",
              "      <th>4</th>\n",
              "      <td>-0.496432</td>\n",
              "      <td>-0.190652</td>\n",
              "      <td>-0.892497</td>\n",
              "      <td>-0.837835</td>\n",
              "    </tr>\n",
              "  </tbody>\n",
              "</table>\n",
              "</div>\n",
              "      <button class=\"colab-df-convert\" onclick=\"convertToInteractive('df-6d62f5c3-24c9-44d3-bc67-0aeb9cb99d27')\"\n",
              "              title=\"Convert this dataframe to an interactive table.\"\n",
              "              style=\"display:none;\">\n",
              "        \n",
              "  <svg xmlns=\"http://www.w3.org/2000/svg\" height=\"24px\"viewBox=\"0 0 24 24\"\n",
              "       width=\"24px\">\n",
              "    <path d=\"M0 0h24v24H0V0z\" fill=\"none\"/>\n",
              "    <path d=\"M18.56 5.44l.94 2.06.94-2.06 2.06-.94-2.06-.94-.94-2.06-.94 2.06-2.06.94zm-11 1L8.5 8.5l.94-2.06 2.06-.94-2.06-.94L8.5 2.5l-.94 2.06-2.06.94zm10 10l.94 2.06.94-2.06 2.06-.94-2.06-.94-.94-2.06-.94 2.06-2.06.94z\"/><path d=\"M17.41 7.96l-1.37-1.37c-.4-.4-.92-.59-1.43-.59-.52 0-1.04.2-1.43.59L10.3 9.45l-7.72 7.72c-.78.78-.78 2.05 0 2.83L4 21.41c.39.39.9.59 1.41.59.51 0 1.02-.2 1.41-.59l7.78-7.78 2.81-2.81c.8-.78.8-2.07 0-2.86zM5.41 20L4 18.59l7.72-7.72 1.47 1.35L5.41 20z\"/>\n",
              "  </svg>\n",
              "      </button>\n",
              "      \n",
              "  <style>\n",
              "    .colab-df-container {\n",
              "      display:flex;\n",
              "      flex-wrap:wrap;\n",
              "      gap: 12px;\n",
              "    }\n",
              "\n",
              "    .colab-df-convert {\n",
              "      background-color: #E8F0FE;\n",
              "      border: none;\n",
              "      border-radius: 50%;\n",
              "      cursor: pointer;\n",
              "      display: none;\n",
              "      fill: #1967D2;\n",
              "      height: 32px;\n",
              "      padding: 0 0 0 0;\n",
              "      width: 32px;\n",
              "    }\n",
              "\n",
              "    .colab-df-convert:hover {\n",
              "      background-color: #E2EBFA;\n",
              "      box-shadow: 0px 1px 2px rgba(60, 64, 67, 0.3), 0px 1px 3px 1px rgba(60, 64, 67, 0.15);\n",
              "      fill: #174EA6;\n",
              "    }\n",
              "\n",
              "    [theme=dark] .colab-df-convert {\n",
              "      background-color: #3B4455;\n",
              "      fill: #D2E3FC;\n",
              "    }\n",
              "\n",
              "    [theme=dark] .colab-df-convert:hover {\n",
              "      background-color: #434B5C;\n",
              "      box-shadow: 0px 1px 3px 1px rgba(0, 0, 0, 0.15);\n",
              "      filter: drop-shadow(0px 1px 2px rgba(0, 0, 0, 0.3));\n",
              "      fill: #FFFFFF;\n",
              "    }\n",
              "  </style>\n",
              "\n",
              "      <script>\n",
              "        const buttonEl =\n",
              "          document.querySelector('#df-6d62f5c3-24c9-44d3-bc67-0aeb9cb99d27 button.colab-df-convert');\n",
              "        buttonEl.style.display =\n",
              "          google.colab.kernel.accessAllowed ? 'block' : 'none';\n",
              "\n",
              "        async function convertToInteractive(key) {\n",
              "          const element = document.querySelector('#df-6d62f5c3-24c9-44d3-bc67-0aeb9cb99d27');\n",
              "          const dataTable =\n",
              "            await google.colab.kernel.invokeFunction('convertToInteractive',\n",
              "                                                     [key], {});\n",
              "          if (!dataTable) return;\n",
              "\n",
              "          const docLinkHtml = 'Like what you see? Visit the ' +\n",
              "            '<a target=\"_blank\" href=https://colab.research.google.com/notebooks/data_table.ipynb>data table notebook</a>'\n",
              "            + ' to learn more about interactive tables.';\n",
              "          element.innerHTML = '';\n",
              "          dataTable['output_type'] = 'display_data';\n",
              "          await google.colab.output.renderOutput(dataTable, element);\n",
              "          const docLink = document.createElement('div');\n",
              "          docLink.innerHTML = docLinkHtml;\n",
              "          element.appendChild(docLink);\n",
              "        }\n",
              "      </script>\n",
              "    </div>\n",
              "  </div>\n",
              "  "
            ]
          },
          "metadata": {},
          "execution_count": 59
        }
      ],
      "source": [
        "df_insurance_num = df_insurance_num.apply(lambda rec: (rec - rec.mean()) / rec.std())\n",
        "\n",
        "df_insurance_num.head()"
      ]
    },
    {
      "cell_type": "code",
      "execution_count": null,
      "id": "8268402c",
      "metadata": {
        "id": "8268402c"
      },
      "outputs": [],
      "source": [
        "df_insurance_new = pd.concat([df_insurance_cat,df_insurance_num],axis = 1)\n",
        "df_insurance_new"
      ]
    },
    {
      "cell_type": "code",
      "execution_count": null,
      "id": "52e0a92a",
      "metadata": {
        "id": "52e0a92a"
      },
      "outputs": [],
      "source": [
        "\n",
        "df_insurance_new.iloc[:,3:7] = df_insurance_new.iloc[:,3:7].apply(lambda rec: (rec - rec.mean()) / rec.std())\n",
        "df_insurance_new.head()"
      ]
    },
    {
      "cell_type": "code",
      "execution_count": null,
      "id": "bd76dedd",
      "metadata": {
        "id": "bd76dedd"
      },
      "outputs": [],
      "source": [
        "df_insurance_without_target = df_insurance_new.drop('charges',axis = 1)"
      ]
    },
    {
      "cell_type": "code",
      "execution_count": null,
      "id": "8bf66117",
      "metadata": {
        "id": "8bf66117"
      },
      "outputs": [],
      "source": [
        "df_insurance_target = df_insurance_new['charges']"
      ]
    },
    {
      "cell_type": "code",
      "execution_count": null,
      "id": "9eddf20f",
      "metadata": {
        "id": "9eddf20f"
      },
      "outputs": [],
      "source": [
        "df_insurance_num = df_insurance_new.select_dtypes(include='number')"
      ]
    },
    {
      "cell_type": "code",
      "execution_count": null,
      "id": "7c1ee101",
      "metadata": {
        "id": "7c1ee101"
      },
      "outputs": [],
      "source": [
        "df_insurance_num.columns"
      ]
    },
    {
      "cell_type": "code",
      "execution_count": null,
      "id": "8aeb2b63",
      "metadata": {
        "id": "8aeb2b63"
      },
      "outputs": [],
      "source": [
        "df_insurance_cat = df_insurance_new.select_dtypes(include='object')"
      ]
    },
    {
      "cell_type": "code",
      "execution_count": null,
      "id": "940e930b",
      "metadata": {
        "id": "940e930b"
      },
      "outputs": [],
      "source": [
        "df_insurance_cat.columns"
      ]
    },
    {
      "cell_type": "code",
      "execution_count": null,
      "id": "03276177",
      "metadata": {
        "id": "03276177"
      },
      "outputs": [],
      "source": [
        "df_insurance_encoded = pd.get_dummies(data = df_insurance_cat)"
      ]
    },
    {
      "cell_type": "code",
      "execution_count": null,
      "id": "5e149bd6",
      "metadata": {
        "id": "5e149bd6"
      },
      "outputs": [],
      "source": [
        "df_insurance_encoded.head()"
      ]
    },
    {
      "cell_type": "code",
      "execution_count": null,
      "id": "e4f994f2",
      "metadata": {
        "id": "e4f994f2"
      },
      "outputs": [],
      "source": [
        "df_insurance_concat_new = pd.concat([df_insurance_num,df_insurance_encoded],axis = 1)"
      ]
    },
    {
      "cell_type": "code",
      "execution_count": null,
      "id": "0b8d12d0",
      "metadata": {
        "id": "0b8d12d0"
      },
      "outputs": [],
      "source": [
        "x_full = df_insurance_concat_new.copy()"
      ]
    },
    {
      "cell_type": "code",
      "execution_count": null,
      "id": "665f9453",
      "metadata": {
        "id": "665f9453"
      },
      "outputs": [],
      "source": [
        "y_full = df_insurance_target.copy()"
      ]
    },
    {
      "cell_type": "code",
      "execution_count": null,
      "id": "3e9a4f06",
      "metadata": {
        "id": "3e9a4f06"
      },
      "outputs": [],
      "source": [
        "import statsmodels.api as sm\n",
        "x_full = sm.add_constant(x_full)"
      ]
    },
    {
      "cell_type": "code",
      "execution_count": null,
      "id": "17b0eb53",
      "metadata": {
        "id": "17b0eb53"
      },
      "outputs": [],
      "source": [
        "from sklearn.model_selection import train_test_split\n",
        "x_train,x_test,y_train,y_test = train_test_split(x_full,y_full,random_state = 1,test_size = 0.3)"
      ]
    },
    {
      "cell_type": "code",
      "execution_count": null,
      "id": "7e795981",
      "metadata": {
        "id": "7e795981"
      },
      "outputs": [],
      "source": [
        "print('X_train_full', x_train.shape)\n",
        "print('y_train_full', y_train.shape)\n",
        "\n",
        "# print dimension of test set\n",
        "print('X_test_full', x_test.shape)\n",
        "print('y_test_full', y_test.shape)"
      ]
    },
    {
      "cell_type": "code",
      "execution_count": null,
      "id": "2e80f3f6",
      "metadata": {
        "id": "2e80f3f6"
      },
      "outputs": [],
      "source": [
        "from statsmodels.formula.api import ols\n",
        "import statsmodels\n"
      ]
    },
    {
      "cell_type": "code",
      "execution_count": null,
      "id": "9f40ecbf",
      "metadata": {
        "id": "9f40ecbf"
      },
      "outputs": [],
      "source": [
        "base_model=sm.OLS(y_train,x_train).fit()"
      ]
    },
    {
      "cell_type": "code",
      "execution_count": null,
      "id": "6d7bdc27",
      "metadata": {
        "id": "6d7bdc27"
      },
      "outputs": [],
      "source": [
        "print(base_model.summary())"
      ]
    },
    {
      "cell_type": "code",
      "execution_count": null,
      "id": "178bd2db",
      "metadata": {
        "id": "178bd2db"
      },
      "outputs": [],
      "source": [
        "x = base_model.rsquared\n",
        "print(f\"here in our case target variable is explained by independent variables by {x} percent hence it is not desirable as exactly 1 is also not possible in real life but here it happens due to multicollinearity\")\n",
        "print(\"---------------------------------------------------------------------------------------------\")\n",
        "\n",
        "\n",
        "# Adj R sq\n",
        "y = base_model.rsquared_adj\n",
        "print(f\"here in our case target values is explained by independent values by {y} values \")\n",
        "print(\"---------------------------------------------------------------------------------------------\")\n",
        "\n",
        "# Condition no\n",
        "z = base_model.condition_number\n",
        "print(f\"{z} severe multicolinearity lies in our model as it is larger than 1000\")\n",
        "print(\"---------------------------------------------------------------------------------------------\")\n",
        "\n",
        "# Durbin Watson\n",
        "w = 2.047\n",
        "print(\"here DW is {w} which is between 0 to 2 hence here there is positive autocorrelation between targetted and independent variables \")"
      ]
    },
    {
      "cell_type": "markdown",
      "id": "1d6ae1de",
      "metadata": {
        "id": "1d6ae1de"
      },
      "source": [
        "# Model Performance"
      ]
    },
    {
      "cell_type": "code",
      "execution_count": null,
      "id": "a732efbd",
      "metadata": {
        "id": "a732efbd"
      },
      "outputs": [],
      "source": [
        "insurance_train_pred = base_model.predict(x_train)\n",
        "insurance_train_pred"
      ]
    },
    {
      "cell_type": "markdown",
      "id": "9142f406",
      "metadata": {
        "id": "9142f406"
      },
      "source": [
        "**MAE**"
      ]
    },
    {
      "cell_type": "code",
      "execution_count": null,
      "id": "1946efef",
      "metadata": {
        "id": "1946efef"
      },
      "outputs": [],
      "source": [
        "from sklearn.metrics import mean_absolute_error\n",
        "mae = mean_absolute_error(y_train,insurance_train_pred)\n",
        "print(f\"mean absolute error is {mae}\")"
      ]
    },
    {
      "cell_type": "code",
      "execution_count": null,
      "id": "52592502",
      "metadata": {
        "id": "52592502"
      },
      "outputs": [],
      "source": []
    },
    {
      "cell_type": "markdown",
      "id": "25174211",
      "metadata": {
        "id": "25174211"
      },
      "source": [
        "**MSE**"
      ]
    },
    {
      "cell_type": "code",
      "execution_count": null,
      "id": "bd361b2c",
      "metadata": {
        "id": "bd361b2c"
      },
      "outputs": [],
      "source": [
        "from sklearn.metrics import mean_squared_error\n",
        "mse = mean_squared_error(y_train,insurance_train_pred)\n",
        "print(f\"mean squared error is {mse}\")"
      ]
    },
    {
      "cell_type": "markdown",
      "id": "b59c455f",
      "metadata": {
        "id": "b59c455f"
      },
      "source": [
        "**RMSE**"
      ]
    },
    {
      "cell_type": "code",
      "execution_count": null,
      "id": "fb8d6b3b",
      "metadata": {
        "id": "fb8d6b3b"
      },
      "outputs": [],
      "source": [
        "rmse = np.sqrt(mse)\n",
        "print(f\"root mean squared error is {rmse}\")"
      ]
    },
    {
      "cell_type": "code",
      "execution_count": null,
      "id": "3ab2b451",
      "metadata": {
        "id": "3ab2b451"
      },
      "outputs": [],
      "source": [
        "from statsmodels.stats.outliers_influence import variance_inflation_factor"
      ]
    },
    {
      "cell_type": "code",
      "execution_count": null,
      "id": "8262ea06",
      "metadata": {
        "id": "8262ea06"
      },
      "outputs": [],
      "source": [
        "df_numeric_feature_variance = df_insurance.select_dtypes(include = \"number\")\n",
        "for i in range(len(df_numeric_feature_variance.columns)):\n",
        "    vif = pd.DataFrame()\n",
        "    vif['vif_factor'] = [variance_inflation_factor(df_numeric_feature_variance.values,i)for i in range(df_numeric_feature_variance.shape[1])]\n",
        "    vif['feature'] = df_numeric_feature_variance.columns\n",
        "    multi = vif[vif['vif_factor']>10]\n",
        "    if multi.empty == False :\n",
        "        df_sorted = multi.sort_values(by = 'vif_factor',ascending = False)\n",
        "    else:\n",
        "        print(vif)\n",
        "        break\n",
        "    if df_sorted.empty == False:\n",
        "        df_numeric_feature_variance.drop(df_sorted.feature.iloc[0],axis = 1)\n",
        "    else:\n",
        "        print(vif)\n",
        "        break"
      ]
    },
    {
      "cell_type": "code",
      "execution_count": null,
      "id": "43bf20ee",
      "metadata": {
        "id": "43bf20ee"
      },
      "outputs": [],
      "source": [
        "vif['vif_factor']"
      ]
    },
    {
      "cell_type": "code",
      "execution_count": null,
      "id": "2c4c1ecc",
      "metadata": {
        "id": "2c4c1ecc"
      },
      "outputs": [],
      "source": [
        " vif['feature']"
      ]
    },
    {
      "cell_type": "code",
      "execution_count": null,
      "id": "6fc7b8b3",
      "metadata": {
        "id": "6fc7b8b3"
      },
      "outputs": [],
      "source": [
        "print(vif)"
      ]
    },
    {
      "cell_type": "code",
      "execution_count": null,
      "id": "9edf1119",
      "metadata": {
        "id": "9edf1119"
      },
      "outputs": [],
      "source": [
        "# as vif of 'age' column is greater than 10\n",
        "df_insurance_vif = df_insurance2.drop('age',axis=1)"
      ]
    },
    {
      "cell_type": "code",
      "execution_count": null,
      "id": "effa40ac",
      "metadata": {
        "id": "effa40ac"
      },
      "outputs": [],
      "source": [
        "df_insurance_vif.shape"
      ]
    },
    {
      "cell_type": "code",
      "execution_count": null,
      "id": "8ca3824b",
      "metadata": {
        "id": "8ca3824b"
      },
      "outputs": [],
      "source": [
        "df_insurance_vif_target = df_insurance_vif['charges']"
      ]
    },
    {
      "cell_type": "code",
      "execution_count": null,
      "id": "5e2946f3",
      "metadata": {
        "id": "5e2946f3"
      },
      "outputs": [],
      "source": [
        "df_insurance_vif_num = df_insurance_vif.select_dtypes(include='number')"
      ]
    },
    {
      "cell_type": "code",
      "execution_count": null,
      "id": "3a2f8c64",
      "metadata": {
        "id": "3a2f8c64"
      },
      "outputs": [],
      "source": [
        "df_insurance_vif_cat = df_insurance_vif.select_dtypes(include='object')"
      ]
    },
    {
      "cell_type": "code",
      "execution_count": null,
      "id": "c20a71c4",
      "metadata": {
        "id": "c20a71c4"
      },
      "outputs": [],
      "source": [
        "df_insurance_vif_without_target =  df_insurance_vif_num.drop('charges',axis = 1)"
      ]
    },
    {
      "cell_type": "code",
      "execution_count": null,
      "id": "7522cf2f",
      "metadata": {
        "id": "7522cf2f"
      },
      "outputs": [],
      "source": [
        "encoded2 = pd.get_dummies(df_insurance_vif_cat)"
      ]
    },
    {
      "cell_type": "code",
      "execution_count": null,
      "id": "189b076a",
      "metadata": {
        "id": "189b076a"
      },
      "outputs": [],
      "source": [
        "from sklearn.preprocessing import StandardScaler\n",
        "ss = StandardScaler()\n",
        "scaled_vif = ss.fit_transform(df_insurance_vif_without_target)"
      ]
    },
    {
      "cell_type": "code",
      "execution_count": null,
      "id": "c0ccc86e",
      "metadata": {
        "id": "c0ccc86e"
      },
      "outputs": [],
      "source": [
        "scaled_df_vif = pd.DataFrame(scaled_vif,columns = df_insurance_vif_without_target.columns)"
      ]
    },
    {
      "cell_type": "code",
      "execution_count": null,
      "id": "883427c1",
      "metadata": {
        "id": "883427c1"
      },
      "outputs": [],
      "source": [
        "scaled_df_vif.head()"
      ]
    },
    {
      "cell_type": "code",
      "execution_count": null,
      "id": "a3415c3b",
      "metadata": {
        "id": "a3415c3b"
      },
      "outputs": [],
      "source": [
        "df_insurance_concat_vif = pd.concat([scaled_df_vif,encoded2],axis = 1)"
      ]
    },
    {
      "cell_type": "code",
      "execution_count": null,
      "id": "5d0a4e44",
      "metadata": {
        "id": "5d0a4e44"
      },
      "outputs": [],
      "source": [
        "x2_full = df_insurance_concat_vif.copy()\n",
        "x2_full.shape"
      ]
    },
    {
      "cell_type": "code",
      "execution_count": null,
      "id": "58035897",
      "metadata": {
        "id": "58035897"
      },
      "outputs": [],
      "source": [
        "df_target.shape"
      ]
    },
    {
      "cell_type": "code",
      "execution_count": null,
      "id": "e9daffb5",
      "metadata": {
        "id": "e9daffb5"
      },
      "outputs": [],
      "source": [
        "y2_full = df_insurance_vif_target.copy()"
      ]
    },
    {
      "cell_type": "code",
      "execution_count": null,
      "id": "740aa9b7",
      "metadata": {
        "id": "740aa9b7"
      },
      "outputs": [],
      "source": [
        "from sklearn.model_selection import train_test_split\n",
        "x_train,x_test,y_train,y_test = train_test_split(x2_full,df_target,random_state=1,test_size = 0.3)\n"
      ]
    },
    {
      "cell_type": "code",
      "execution_count": null,
      "id": "46f9f40f",
      "metadata": {
        "id": "46f9f40f"
      },
      "outputs": [],
      "source": [
        "print(\"X_train------independent variables for training\",x_train.shape)\n",
        "print(\"Y_train------dependent variables for training\",y_train.shape)\n",
        "print(\"________________________________________________________\")\n",
        "print(\"X_test------independent variables for testing\",x_test.shape)\n",
        "print(\"Y_test------dependent variables for testing\",y_test.shape)"
      ]
    },
    {
      "cell_type": "code",
      "execution_count": null,
      "id": "ac3824ac",
      "metadata": {
        "id": "ac3824ac"
      },
      "outputs": [],
      "source": [
        "base_model_vif = sm.OLS(y_train,x_train).fit()\n",
        "#print summary\n",
        "base_model_vif.summary()"
      ]
    },
    {
      "cell_type": "code",
      "execution_count": null,
      "id": "1476b685",
      "metadata": {
        "id": "1476b685"
      },
      "outputs": [],
      "source": [
        "# model evaluation\n",
        "# R square\n",
        "x = base_model_vif.rsquared\n",
        "print(f\"here in our case target variable is explained by independent variables by {x} percent which is not so good and not so bad\")\n",
        "print(\"---------------------------------------------------------------------------------------------\")\n",
        "\n",
        "\n",
        "# Adj R sq\n",
        "y = base_model_vif.rsquared_adj\n",
        "print(f\"here in our case target values is explained by independent values by {y} values \")\n",
        "print(\"---------------------------------------------------------------------------------------------\")\n",
        "\n",
        "# Condition no\n",
        "z = base_model_vif.condition_number\n",
        "print(f\"{z} severe multicolinearity lies in our model as it is larger than 1000\")\n",
        "print(\"---------------------------------------------------------------------------------------------\")\n",
        "\n",
        "# Durbin Watson\n",
        "w = 2.019\n",
        "print(\"here DW is {w} which is nearer to 2 hence there is no autocorrelation \")"
      ]
    },
    {
      "cell_type": "code",
      "execution_count": null,
      "id": "83d50fce",
      "metadata": {
        "id": "83d50fce"
      },
      "outputs": [],
      "source": []
    },
    {
      "cell_type": "code",
      "execution_count": null,
      "id": "004c1c35",
      "metadata": {
        "id": "004c1c35"
      },
      "outputs": [],
      "source": []
    },
    {
      "cell_type": "code",
      "execution_count": null,
      "id": "ba6e2419",
      "metadata": {
        "id": "ba6e2419"
      },
      "outputs": [],
      "source": []
    },
    {
      "cell_type": "code",
      "execution_count": null,
      "id": "d8db19ab",
      "metadata": {
        "id": "d8db19ab"
      },
      "outputs": [],
      "source": []
    },
    {
      "cell_type": "code",
      "execution_count": null,
      "id": "4da55725",
      "metadata": {
        "id": "4da55725"
      },
      "outputs": [],
      "source": []
    },
    {
      "cell_type": "code",
      "execution_count": null,
      "id": "19b0993f",
      "metadata": {
        "id": "19b0993f"
      },
      "outputs": [],
      "source": []
    }
  ],
  "metadata": {
    "kernelspec": {
      "display_name": "Python 3 (ipykernel)",
      "language": "python",
      "name": "python3"
    },
    "language_info": {
      "codemirror_mode": {
        "name": "ipython",
        "version": 3
      },
      "file_extension": ".py",
      "mimetype": "text/x-python",
      "name": "python",
      "nbconvert_exporter": "python",
      "pygments_lexer": "ipython3",
      "version": "3.10.2"
    },
    "colab": {
      "provenance": [],
      "include_colab_link": true
    }
  },
  "nbformat": 4,
  "nbformat_minor": 5
}